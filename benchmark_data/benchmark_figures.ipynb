{
 "cells": [
  {
   "cell_type": "code",
   "execution_count": 4,
   "id": "5aa6a707-1434-47df-9e32-8eaff4a04f1a",
   "metadata": {},
   "outputs": [],
   "source": [
    "import matplotlib.pyplot as plt\n",
    "import seaborn as sbs\n",
    "import numpy as np\n",
    "import copy\n",
    "%matplotlib inline\n"
   ]
  },
  {
   "cell_type": "markdown",
   "id": "372a1428-2e63-4ea0-a9bf-1f7e59574df9",
   "metadata": {},
   "source": [
    "## Data Processing Functions"
   ]
  },
  {
   "cell_type": "code",
   "execution_count": null,
   "id": "f71a6178-c24a-43e8-b600-a8dbcd8bdf84",
   "metadata": {},
   "outputs": [],
   "source": [
    "data_frame = {'user':[], 'system':[], 'wall':[]}\n",
    "\n",
    "n_qubits_fn = lambda line: int(line.split(' ')[1])\n",
    "n_gates_fn = lambda line: int(line.split(' ')[2])\n",
    "user_time_fn = lambda line: float(line.split(' ')[5][:-1])\n",
    "system_time_fn = lambda line: float(line.split(' ')[7][:-1])\n",
    "wall_time_fn = lambda line: float(line.split(' ')[11])\n",
    "\n",
    "def process_file(filename, criterion_fn):\n",
    "    '''\n",
    "    Splits up a file of time outputs\n",
    "    '''\n",
    "    data = {}\n",
    "    with open(filename, 'r') as data_file:\n",
    "        for line in data_file:\n",
    "            criterion = criterion_fn(line)\n",
    "            user_time = user_time_fn(line)\n",
    "            system_time = system_time_fn(line)\n",
    "            wall_time = wall_time_fn(line)\n",
    "            \n",
    "            if criterion not in data:\n",
    "                data[criterion] = copy.deepcopy(data_frame)\n",
    "            data[criterion]['user'].append(user_time)\n",
    "            data[criterion]['system'].append(user_time)\n",
    "            data[criterion]['wall'].append(user_time)\n",
    "    return data\n",
    "\n",
    "def benchmark(data, criterion):\n",
    "    for element in data:\n",
    "        "
   ]
  },
  {
   "cell_type": "markdown",
   "id": "b2de54af-6c9b-4c7a-8566-69f0d89eafd7",
   "metadata": {},
   "source": [
    "## Scaling with Qubit Count"
   ]
  },
  {
   "cell_type": "code",
   "execution_count": 24,
   "id": "54059398-b08c-4b5f-9729-103f21f47ef8",
   "metadata": {},
   "outputs": [],
   "source": [
    "benchmark_n_qubits_i7_6700 = process_file('benchmark_n_qubits_i7_6700', n_qubits_fn)"
   ]
  },
  {
   "cell_type": "code",
   "execution_count": 22,
   "id": "521a295c-758d-4d72-b09b-5cd69813a943",
   "metadata": {},
   "outputs": [],
   "source": []
  },
  {
   "cell_type": "code",
   "execution_count": null,
   "id": "d1be15af-8c59-42bb-a8a7-3eb0b6083903",
   "metadata": {},
   "outputs": [],
   "source": []
  }
 ],
 "metadata": {
  "kernelspec": {
   "display_name": "Python 3",
   "language": "python",
   "name": "python3"
  },
  "language_info": {
   "codemirror_mode": {
    "name": "ipython",
    "version": 3
   },
   "file_extension": ".py",
   "mimetype": "text/x-python",
   "name": "python",
   "nbconvert_exporter": "python",
   "pygments_lexer": "ipython3",
   "version": "3.10.10"
  }
 },
 "nbformat": 4,
 "nbformat_minor": 5
}
